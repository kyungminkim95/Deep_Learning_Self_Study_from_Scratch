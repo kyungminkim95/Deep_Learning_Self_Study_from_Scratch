{
 "cells": [
  {
   "cell_type": "code",
   "execution_count": 30,
   "metadata": {},
   "outputs": [],
   "source": [
    "# Concise Implementation of Linear Regression\n",
    "import numpy as np\n",
    "import tensorflow as tf\n",
    "from d2l import tensorflow as d2l\n",
    "\n",
    "true_w = tf.constant([2, -3.4])\n",
    "true_b = 4.2\n",
    "features, labels = d2l.synthetic_data(true_w, true_b, 1000)"
   ]
  },
  {
   "cell_type": "code",
   "execution_count": 31,
   "metadata": {},
   "outputs": [],
   "source": [
    "# Reading the Dataset\n",
    "# The boolean value 'is_train' indicates whether or not we want the data iterator object to shuffle the data on each epoch (pass through the dataset).\n",
    "# next(iter()) 함수의 역할은 generator의 역할과 유사함을 기억할 필요가 있습니다.\n",
    "def load_array(data_arrays, batch_size, is_train=True): #@save\n",
    "    \"\"\"\"Construct a Tensorflow data iterator.\"\"\"\n",
    "    dataset = tf.data.Dataset.from_tensor_slices(data_arrays)\n",
    "    if is_train:\n",
    "        dataset = dataset.shuffle(buffer_size=1000)\n",
    "    dataset = dataset.batch(batch_size)\n",
    "    return dataset\n",
    "\n",
    "batch_size = 10\n",
    "data_iter = load_array((features, labels), batch_size)"
   ]
  },
  {
   "cell_type": "code",
   "execution_count": 32,
   "metadata": {},
   "outputs": [
    {
     "data": {
      "text/plain": [
       "(<tf.Tensor: shape=(10, 2), dtype=float32, numpy=\n",
       " array([[-0.61314934,  0.38680825],\n",
       "        [-1.297983  ,  1.3316035 ],\n",
       "        [-0.3161761 , -2.056911  ],\n",
       "        [ 0.30748326,  0.13282299],\n",
       "        [-0.16749963, -1.0616336 ],\n",
       "        [ 0.6440127 , -0.71006346],\n",
       "        [ 0.09285521, -0.40607098],\n",
       "        [ 0.05600452, -0.6347162 ],\n",
       "        [ 0.2712449 , -0.81054944],\n",
       "        [-0.30039108, -0.4910026 ]], dtype=float32)>,\n",
       " <tf.Tensor: shape=(10, 1), dtype=float32, numpy=\n",
       " array([[ 1.6609216],\n",
       "        [-2.926529 ],\n",
       "        [10.566331 ],\n",
       "        [ 4.3503995],\n",
       "        [ 7.4678593],\n",
       "        [ 7.891633 ],\n",
       "        [ 5.762725 ],\n",
       "        [ 6.4689417],\n",
       "        [ 7.503671 ],\n",
       "        [ 5.2583838]], dtype=float32)>)"
      ]
     },
     "execution_count": 32,
     "metadata": {},
     "output_type": "execute_result"
    }
   ],
   "source": [
    "next(iter(data_iter))"
   ]
  },
  {
   "cell_type": "code",
   "execution_count": 33,
   "metadata": {},
   "outputs": [],
   "source": [
    "# Defining the Model\n",
    "# We will first define a model variable 'net', which will refer to an instance of the 'Sequential' class.\n",
    "# The 'Sequential' class defines a container for several layers that will be chained together.\n",
    "# 'keras' is the high-level API for Tensorflow\n",
    "# 일단은 직관적으로 어떤 의미인지만을 받아들이면서 넘어갑시다.\n",
    "net = tf.keras.Sequential() # Feed-forward network의 일종으로 받아들이면 될 것 같습니다.\n",
    "net.add(tf.keras.layers.Dense(1)) # Dense refers to the fully-connected layer structure. And 1 refers to the single-layer structure, i guess haha."
   ]
  },
  {
   "cell_type": "code",
   "execution_count": 34,
   "metadata": {},
   "outputs": [],
   "source": [
    "# Initializing Model Parameters\n",
    "# Deep learning frameworks often have a predefined way to initialize the parameters.\n",
    "# Here we specify that each weight parameter should be randomly sampled from a normal distn w/ mean 0 and sd 0.01.\n",
    "# The bias parameter will be initialized to zero."
   ]
  },
  {
   "cell_type": "code",
   "execution_count": 35,
   "metadata": {},
   "outputs": [],
   "source": [
    "# The 'initializers' module in Tensorflow provides various methods for model parameter initialization.\n",
    "# The easiest way to specify the initialization method in Keras is when creating the layer by specifying 'kernel_initializer'.\n",
    "initializer = tf.initializers.RandomNormal(stddev=0.01)\n",
    "net = tf.keras.Sequential()\n",
    "net.add(tf.keras.layers.Dense(1, kernel_initializer=initializer)) # One fantastic thing of using the keras API! Just be careful to remember that since the parameters have not been initialized yet, we cannot access or manipulate them."
   ]
  },
  {
   "cell_type": "code",
   "execution_count": 36,
   "metadata": {},
   "outputs": [],
   "source": [
    "# Defining the Loss Function\n",
    "# The 'MeanSquaredError' class computes the mean squared error (w/o the 1/2 factor).\n",
    "# By default, it returns the 'AVERAGE' loss over examples.4\n",
    "loss = tf.keras.losses.MeanSquaredError()"
   ]
  },
  {
   "cell_type": "code",
   "execution_count": 37,
   "metadata": {},
   "outputs": [],
   "source": [
    "# Defining the Optimization Algorithm\n",
    "trainer = tf.keras.optimizers.SGD(learning_rate=0.03)"
   ]
  },
  {
   "cell_type": "code",
   "execution_count": 39,
   "metadata": {},
   "outputs": [
    {
     "name": "stdout",
     "output_type": "stream",
     "text": [
      "epoch 1, loss 0.000106\n",
      "epoch 2, loss 0.000107\n",
      "epoch 3, loss 0.000106\n"
     ]
    }
   ],
   "source": [
    "# Training\n",
    "num_epochs = 3\n",
    "for epoch in range(num_epochs):\n",
    "    for X, y in data_iter:\n",
    "        with tf.GradientTape() as tape:\n",
    "            l = loss(net(X, training=True), y)\n",
    "            #print(l)\n",
    "        grads = tape.gradient(l, net.trainable_variables)\n",
    "        trainer.apply_gradients(zip(grads, net.trainable_variables)) # weight랑 bias가 따로 들어가서 zip을 사용한 것 같습니다! 맞지요?!\n",
    "        #print(grads)\n",
    "        #print(net.trainable_variables)\n",
    "    l = loss(net(features), labels)\n",
    "    print(f'epoch {epoch + 1}, loss {l:f}')"
   ]
  },
  {
   "cell_type": "code",
   "execution_count": 40,
   "metadata": {},
   "outputs": [
    {
     "name": "stdout",
     "output_type": "stream",
     "text": [
      "error in estimating w tf.Tensor([-6.1750412e-05 -6.6018105e-04], shape=(2,), dtype=float32)\n",
      "error in estimating b [-0.00031185]\n"
     ]
    }
   ],
   "source": [
    "w = net.get_weights()[0]\n",
    "print('error in estimating w', true_w - tf.reshape(w, true_w.shape))\n",
    "b = net.get_weights()[1]\n",
    "print('error in estimating b', true_b - b)"
   ]
  }
 ],
 "metadata": {
  "interpreter": {
   "hash": "31f2aee4e71d21fbe5cf8b01ff0e069b9275f58929596ceb00d14d90e3e16cd6"
  },
  "kernelspec": {
   "display_name": "Python 3.8.10 64-bit",
   "language": "python",
   "name": "python3"
  },
  "language_info": {
   "codemirror_mode": {
    "name": "ipython",
    "version": 3
   },
   "file_extension": ".py",
   "mimetype": "text/x-python",
   "name": "python",
   "nbconvert_exporter": "python",
   "pygments_lexer": "ipython3",
   "version": "3.8.10"
  },
  "orig_nbformat": 4
 },
 "nbformat": 4,
 "nbformat_minor": 2
}
