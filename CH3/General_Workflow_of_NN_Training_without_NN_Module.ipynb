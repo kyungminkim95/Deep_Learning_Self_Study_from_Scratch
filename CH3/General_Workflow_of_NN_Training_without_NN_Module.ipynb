{
 "cells": [
  {
   "cell_type": "code",
   "execution_count": 11,
   "metadata": {},
   "outputs": [
    {
     "ename": "SyntaxError",
     "evalue": "f-string: closing parenthesis '}' does not match opening parenthesis '(' (1988805890.py, line 80)",
     "output_type": "error",
     "traceback": [
      "\u001b[0;36m  Input \u001b[0;32mIn [11]\u001b[0;36m\u001b[0m\n\u001b[0;31m    print(f'error in estimating w: {true_w - tf.reshape(w, true_w.shape}')\u001b[0m\n\u001b[0m          ^\u001b[0m\n\u001b[0;31mSyntaxError\u001b[0m\u001b[0;31m:\u001b[0m f-string: closing parenthesis '}' does not match opening parenthesis '('\n"
     ]
    }
   ],
   "source": [
    "# Linear Regression Implementation from Scratch\n",
    "%matplotlib inline\n",
    "import random\n",
    "import tensorflow as tf\n",
    "from d2l import tensorflow as d2l\n",
    "\n",
    "# Step 1. Generating the Dataset\n",
    "def synthetic_data(w, b, num_examples): #@save\n",
    "    \"\"\"\"Generate y = Xw + b + noise.\"\"\"\n",
    "    X = tf.zeros((num_examples, w.shape[0]))\n",
    "    X += tf.random.normal(shape=X.shape) # Generating a design matrix X\n",
    "    y = tf.matmul(X, tf.reshape(w, (-1,1))) + b # True regression function\n",
    "    y += tf.random.normal(shape=y.shape, stddev=0.01) # True regression function with random noise\n",
    "    y = tf.reshape(y, (-1, 1))\n",
    "    return X, y\n",
    "\n",
    "# True weights and bias under the simulation setting\n",
    "true_w = tf.constant([2, -3.4])\n",
    "true_b = 4.2\n",
    "features, labels = synthetic_data(true_w, true_b, 1000)\n",
    "\n",
    "# Can be understood as a stage of EDA\n",
    "#d2l.set_figsize()\n",
    "# The semicolon is for displaying the plot only\n",
    "#d2l.plt.scatter(features[:, (1)].numpy(), labels.numpy(), 1);\n",
    "\n",
    "# Step 2. Reading the Dataset\n",
    "# Paritioning the dataset into minibatches for the training step\n",
    "\n",
    "def data_iter(batch_size, features, labels):\n",
    "    num_examples = len(features)\n",
    "    indices = list(range(num_examples))\n",
    "    # The examples are read at random, in no particular order (can be understood as the step of shuffling)\n",
    "    random.shuffle(indices)\n",
    "    for i in range(0, num_examples, batch_size):\n",
    "        j = tf.constant(indices[i:min(i + batch_size, num_examples)])\n",
    "        yield tf.gather(features, j), tf.gather(labels, j) # loop문을 적용하는 데에 있어서 memory-efficient한 방법론으로 이해할 수 있다.\n",
    "\n",
    "batch_size = 10 # size of the minibatch\n",
    "\n",
    "# Step 3. Initializing the Model Parameters\n",
    "w = tf.Variable(tf.random.normal(shape=(2, 1), mean = 0, stddev = 0.1), trainable = True)\n",
    "b = tf.Variable(tf.zeros(1), trainable = True)\n",
    "\n",
    "# Step 4. Defining the Model\n",
    "def linreg(X, w, b): #@save\n",
    "    \"\"\"\"The linear regression model.\"\"\"\n",
    "    return tf.matmul(X, w) + b\n",
    "\n",
    "# Step 5. Defining the Loss Function\n",
    "def squared_loss(y_hat, y): #@save\n",
    "    \"\"\"\"Squared loss.\"\"\"\n",
    "    return (y_hat - tf.reshape(y, y_hat.shape)) **2 / 2\n",
    "\n",
    "# Step 6. Defining the Optimization Algorithm\n",
    "def sgd(params, grads, lr, batch_size): #@save\n",
    "    \"\"\"\"Minibatch stochastic gradient descent\"\"\"\n",
    "    for param, grad in zip(params, grads):\n",
    "        param.assign_sub(lr*grad/batch_size)\n",
    "\n",
    "# Now, we're finally ready for training the model.\n",
    "# Step 7. Training\n",
    "lr = 0.03 # learning rate\n",
    "num_epochs = 3 # number of epochs\n",
    "net = linreg # model specification\n",
    "loss = squared_loss # loss function used\n",
    "\n",
    "for epoch in range(num_epochs):\n",
    "    for X, y in data_iter(batch_size, features, labels):\n",
    "        with tf.GradientTape() as g:\n",
    "            l = loss(net(X, w, b), y) # Minibatch loss in 'X' and 'y'\n",
    "        # Compute gradient on l w.r.t ['w', 'b']\n",
    "        dw, db = g.gradient(l, [w, b])\n",
    "        # Update parameters using their gradient\n",
    "        sgd([w, b], [dw, db], lr, batch_size)\n",
    "    train_l = loss(net(features, w, b), labels)\n",
    "    print(f'epoch {epoch + 1}, loss {float(tf.reduce_mean(train_l)):f}')\n",
    "\n",
    "# Additional Measure of Goodness-of-it (possible since it is the simulation setting)\n",
    "print(f'error in estimating w: {true_w - tf.reshape(w, true_w.shape)}')\n",
    "print(f'error in estimating b: {true_b - b}')"
   ]
  }
 ],
 "metadata": {
  "interpreter": {
   "hash": "31f2aee4e71d21fbe5cf8b01ff0e069b9275f58929596ceb00d14d90e3e16cd6"
  },
  "kernelspec": {
   "display_name": "Python 3.8.10 64-bit",
   "language": "python",
   "name": "python3"
  },
  "language_info": {
   "codemirror_mode": {
    "name": "ipython",
    "version": 3
   },
   "file_extension": ".py",
   "mimetype": "text/x-python",
   "name": "python",
   "nbconvert_exporter": "python",
   "pygments_lexer": "ipython3",
   "version": "3.8.10"
  },
  "orig_nbformat": 4
 },
 "nbformat": 4,
 "nbformat_minor": 2
}
