{
 "cells": [
  {
   "cell_type": "code",
   "execution_count": 3,
   "metadata": {},
   "outputs": [
    {
     "name": "stdout",
     "output_type": "stream",
     "text": [
      "epoch 1, loss 0.000348\n",
      "epoch 2, loss 0.000105\n",
      "epoch 3, loss 0.000105\n",
      "error in estimating w tf.Tensor([-0.00083876 -0.00065589], shape=(2,), dtype=float32)\n",
      "error in estimating b [-4.20046]\n"
     ]
    }
   ],
   "source": [
    "# Concise Implementation of Linear Regression\n",
    "# Step 1. Generating the Dataset\n",
    "import numpy as np\n",
    "import tensorflow as tf\n",
    "from d2l import tensorflow as d2l\n",
    "\n",
    "# Possible since it is the simulatioin study for clarity of understanding the workflow.\n",
    "# Not possible in the real-world data analysis\n",
    "true_w = tf.constant([2, -3.4]) # true weights\n",
    "true_b = 4.2 # true bias\n",
    "features, labels = d2l.synthetic_data(true_w, true_b, 1000) # design matrix and the response vector (supervised learning)\n",
    "\n",
    "# Step 2. Reading the Dataset\n",
    "# Splitting the training data set into minibatches for the purpose of training, where minibatch SGD is used for iterative process of function estimation.\n",
    "def load_array(data_arrays, batch_size, is_train=True): #@save\n",
    "    \"\"\"\"Construct a Tensorflow data iterator.\"\"\"\n",
    "    dataset = tf.data.Dataset.from_tensor_slices(data_arrays) # 그냥 dataset 만드는 함수로 이해하면 편할 것 같다.\n",
    "    if is_train:\n",
    "        dataset = dataset.shuffle(buffer_size=1000)\n",
    "    dataset = dataset.batch(batch_size)\n",
    "    return dataset\n",
    "\n",
    "batch_size = 10 # size of respective minibatches\n",
    "data_iter = load_array((features, labels), batch_size) # BatchDataset of size 100 (=1000/10)\n",
    "#next(iter(data_iter))\n",
    "\n",
    "# Step 3. Defining the Model\n",
    "# 'keras' is the high-level API for Tensorflow\n",
    "# In this case, fully-connected multilayer perceptron of single layer is assumed!\n",
    "#net = tf.keras.Sequential()\n",
    "#net.add(tf.keras.layers.Dense(1))\n",
    "\n",
    "# Step 4. Initializing Model Parameters\n",
    "initializer = tf.initializers.RandomNormal(stddev=0.01)\n",
    "net = tf.keras.Sequential()\n",
    "net.add(tf.keras.layers.Dense(1, kernel_initializer=initializer))\n",
    "\n",
    "# Step 5. Defining the Loss Function\n",
    "loss = tf.keras.losses.MeanSquaredError()\n",
    "\n",
    "# Step 6. Defining the Optimization Algorithm\n",
    "trainer = tf.keras.optimizers.SGD(learning_rate=0.03)\n",
    "\n",
    "# Step 7. Training\n",
    "num_epochs = 3 # can be understood as an hyperparameter\n",
    "for epoch in range(num_epochs):\n",
    "    for X, y in data_iter:\n",
    "        with tf.GradientTape() as tape:\n",
    "            l = loss(net(X, training=True), y) # calculates the loss function value using a given minibatch\n",
    "        grads = tape.gradient(l, net.trainable_variables) # gradient w.r.t weights and bias, respectively -> reason why the ftn zip() is used in the following line!\n",
    "        trainer.apply_gradients(zip(grads, net.trainable_variables))\n",
    "    l = loss(net(features), labels) # for final evaluation of loss function at the end of each epoch\n",
    "    print(f'epoch {epoch + 1}, loss {l:f}')\n",
    "\n",
    "# Step 8. Additional Step of Checking Goodness-of-fit (possible since it is a synthetic data with known true parameters)\n",
    "w = net.get_weights()[0]\n",
    "print('error in estimating w', true_w - tf.reshape(w, true_w.shape))\n",
    "b = net.get_weights()[1]\n",
    "print('error in estimating b', true_b - true_b - b)"
   ]
  }
 ],
 "metadata": {
  "interpreter": {
   "hash": "31f2aee4e71d21fbe5cf8b01ff0e069b9275f58929596ceb00d14d90e3e16cd6"
  },
  "kernelspec": {
   "display_name": "Python 3.8.10 64-bit",
   "language": "python",
   "name": "python3"
  },
  "language_info": {
   "codemirror_mode": {
    "name": "ipython",
    "version": 3
   },
   "file_extension": ".py",
   "mimetype": "text/x-python",
   "name": "python",
   "nbconvert_exporter": "python",
   "pygments_lexer": "ipython3",
   "version": "3.8.10"
  },
  "orig_nbformat": 4
 },
 "nbformat": 4,
 "nbformat_minor": 2
}
