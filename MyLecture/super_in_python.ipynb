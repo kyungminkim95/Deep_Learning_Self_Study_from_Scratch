{
 "cells": [
  {
   "cell_type": "code",
   "execution_count": 1,
   "metadata": {},
   "outputs": [
    {
     "name": "stdout",
     "output_type": "stream",
     "text": [
      "It is a mammal.\n"
     ]
    }
   ],
   "source": [
    "# Python 'super()'\n",
    "# When a class inherits some or all of the behaviors from another class is known as 'inheritance'.\n",
    "# In such a case, the inherited class is the subclass \n",
    "# and the latter class is the parent class.\n",
    "# IN AN INHERITED SUBCLASS, A PARENT CLASS CAN BE REFERRED TO WITH THE USE OF 'super()' FTN.\n",
    "\n",
    "# There are 3 constraints to use the super ftn:\n",
    "# 1. The class and its methods which are referred by the super ftn.\n",
    "# 2. The arguments of the super ftn and the called ftn should match.\n",
    "# Every occurrence of the method must include 'super()' after you use it.\n",
    "\n",
    "# Examples\n",
    "# Example 1: super ftn in single inheritance\n",
    "class Animals:\n",
    "    # Initializing constructor\n",
    "    def __init__(self):\n",
    "        self.legs = 4\n",
    "        self.domestic = True\n",
    "        self.tail = True\n",
    "        self.mammals = True\n",
    "\n",
    "    def isMammal(self):\n",
    "        if self.mammals:\n",
    "            print(\"It is a mammal.\")\n",
    "\n",
    "    def isDomestic(self):\n",
    "        if self.domestic:\n",
    "            print(\"It is a domestic animal.\")\n",
    "\n",
    "class Dogs(Animals):\n",
    "    def __init__(self):\n",
    "        super().__init__()\n",
    "\n",
    "    def isMammal(self):\n",
    "        super().isMammal()\n",
    "\n",
    "class Horses(Animals):\n",
    "    def __init__(self):\n",
    "        super().__init__()\n",
    "\n",
    "    def hasTailandLegs(self):\n",
    "        if self.tail and self.legs == 4:\n",
    "            print(\"Has legs and tail.\")\n",
    "\n",
    "# Driver code\n",
    "Tom = Dogs()\n",
    "Tom.isMammal()"
   ]
  }
 ],
 "metadata": {
  "interpreter": {
   "hash": "31f2aee4e71d21fbe5cf8b01ff0e069b9275f58929596ceb00d14d90e3e16cd6"
  },
  "kernelspec": {
   "display_name": "Python 3.8.10 64-bit",
   "language": "python",
   "name": "python3"
  },
  "language_info": {
   "codemirror_mode": {
    "name": "ipython",
    "version": 3
   },
   "file_extension": ".py",
   "mimetype": "text/x-python",
   "name": "python",
   "nbconvert_exporter": "python",
   "pygments_lexer": "ipython3",
   "version": "3.8.10"
  },
  "orig_nbformat": 4
 },
 "nbformat": 4,
 "nbformat_minor": 2
}
