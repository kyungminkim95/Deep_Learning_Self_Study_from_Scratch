{
 "cells": [
  {
   "cell_type": "code",
   "execution_count": 12,
   "metadata": {},
   "outputs": [],
   "source": [
    "# Notebook을 실행한 브라우저에서 바로 그림을 볼수 있도록\n",
    "%matplotlib inline\n",
    "import numpy as np\n",
    "import tensorflow as tf\n",
    "from IPython import display # d2l에 들어있다.\n",
    "from d2l import tensorflow as d2l"
   ]
  },
  {
   "cell_type": "code",
   "execution_count": 13,
   "metadata": {},
   "outputs": [],
   "source": [
    "# Parameter Initialization (True Parameter Values이므로)\n",
    "true_w = tf.constant([2, -3.4])\n",
    "true_b = 4.2\n",
    "\n",
    "# Gemerating the Dataset\n",
    "features, labels = d2l.synthetic_data(true_w, true_b, num_examples=1000)\n",
    "\n",
    "# Partitioning the dataset into minibatches\n",
    "batch_size = 10\n",
    "data_iter = d2l.load_array((features, labels), batch_size) # first argument is a tuple of tensors of features and labels, respectively."
   ]
  },
  {
   "cell_type": "code",
   "execution_count": 14,
   "metadata": {},
   "outputs": [],
   "source": [
    "# Defining the model and initializing model parameters\n",
    "initializer = tf.initializers.RandomNormal(stddev=0.01)\n",
    "net = tf.keras.Sequential()\n",
    "net.add(tf.keras.layers.Dense(1, kernel_initializer=initializer))\n",
    "\n",
    "# Defining the Loss Function\n",
    "loss = tf.keras.losses.MeanSquaredError()\n",
    "\n",
    "# Defining the Optimization Algorithm\n",
    "trainer = tf.keras.optimizers.SGD(learning_rate=0.03)"
   ]
  },
  {
   "cell_type": "code",
   "execution_count": 17,
   "metadata": {},
   "outputs": [
    {
     "name": "stdout",
     "output_type": "stream",
     "text": [
      "epoch 1, loss1.000000\n",
      "epoch 2, loss1.000000\n",
      "epoch 3, loss1.000000\n",
      "error in estimating w: tf.Tensor([ 0.00070274 -0.00064349], shape=(2,), dtype=float32)\n",
      "error in estimating b: [-0.00029469]\n"
     ]
    }
   ],
   "source": [
    "# Training\n",
    "num_epochs = 3\n",
    "for epoch in range(num_epochs):\n",
    "    for X, y in data_iter:\n",
    "        with tf.GradientTape() as tape:\n",
    "            l = loss(net(X, training=True), y)\n",
    "        grads = tape.gradient(l, net.trainable_variables)\n",
    "        trainer.apply_gradients(zip(grads, net.trainable_variables))\n",
    "    l = loss(net(features), labels) # Sample mean of the training error를 제공해주는 것 같습니다. (아 보니까 MeanSquaredError네요 hahaha)\n",
    "    print(f'epoch {epoch + 1}, loss{1:f}')\n",
    "\n",
    "# Discrepancy between Real Parameter Values\n",
    "w = net.get_weights()[0]\n",
    "print('error in estimating w:', true_w - tf.reshape(w, true_w.shape))\n",
    "b = net.get_weights()[1]\n",
    "print('error in estimating b:', true_b - b)"
   ]
  }
 ],
 "metadata": {
  "interpreter": {
   "hash": "31f2aee4e71d21fbe5cf8b01ff0e069b9275f58929596ceb00d14d90e3e16cd6"
  },
  "kernelspec": {
   "display_name": "Python 3.8.10 64-bit",
   "language": "python",
   "name": "python3"
  },
  "language_info": {
   "codemirror_mode": {
    "name": "ipython",
    "version": 3
   },
   "file_extension": ".py",
   "mimetype": "text/x-python",
   "name": "python",
   "nbconvert_exporter": "python",
   "pygments_lexer": "ipython3",
   "version": "3.8.10"
  },
  "orig_nbformat": 4
 },
 "nbformat": 4,
 "nbformat_minor": 2
}
