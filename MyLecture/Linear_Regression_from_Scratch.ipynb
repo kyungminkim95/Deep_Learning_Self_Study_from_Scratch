{
 "cells": [
  {
   "cell_type": "code",
   "execution_count": 21,
   "metadata": {},
   "outputs": [],
   "source": [
    "# Notebook을 실행한 브라우저에서 바로 그림을 볼수 있도록\n",
    "%matplotlib inline\n",
    "import random # used for 1) generation of synthetic data or 2) initializations of model parameters\n",
    "import numpy as np\n",
    "import tensorflow as tf\n",
    "from IPython import display # d2l에 들어있다.\n",
    "from d2l import tensorflow as d2l"
   ]
  },
  {
   "cell_type": "code",
   "execution_count": 22,
   "metadata": {},
   "outputs": [],
   "source": [
    "# Parameter Initialization (이거는 true parameter이다. 헷갈리지 말자.)\n",
    "true_w = tf.constant([2, -3.4])\n",
    "true_b = 4.2\n",
    "\n",
    "features, labels = d2l.synthetic_data(true_w, true_b, num_examples=1000)"
   ]
  },
  {
   "cell_type": "code",
   "execution_count": 23,
   "metadata": {},
   "outputs": [],
   "source": [
    "# Prototype of Partitioning into Minibatches\n",
    "def data_iter(batch_size, features, labels):\n",
    "    num_examples = len(features) # size of the sample size\n",
    "    indices = list(range(num_examples)) # form of [0, 1, ..., (n-1)]\n",
    "    # The examples are read at random, in no particular order\n",
    "    random.shuffle(indices) # shuffled list of indices of length 'num_examples'\n",
    "    for i in range(0, num_examples, batch_size):\n",
    "        j = tf.constant(indices[i:min(i + batch_size, num_examples)]) # 'min()' is used for the last batch.\n",
    "        yield tf.gather(features, j), tf.gather(labels, j) # generator를 반환합니다. Memory-efficient하다는 점에서 강점이 있습니다."
   ]
  },
  {
   "cell_type": "code",
   "execution_count": 24,
   "metadata": {},
   "outputs": [],
   "source": [
    "# Initializing Model Parameters\n",
    "# !!!!! Note 'tf.GradientTape()' watches 'trainable=True' variables by default !!!!! -> keras를 잘 활용하면 고민할 필요가 없습니다.\n",
    "# !!!!! Weights랑 bias(es)는 무조건 'trainable'한 variable로 설정하는 것이 맞겠다 !!!!!\n",
    "w = tf.Variable(tf.random.normal(shape=(2, 1), mean=0, stddev=0.01), trainable=True) # 값 변경이 가능한 '변수'로 이해할 수 있다.\n",
    "b = tf.Variable(tf.zeros(1), trainable=True)"
   ]
  },
  {
   "cell_type": "code",
   "execution_count": 25,
   "metadata": {},
   "outputs": [
    {
     "name": "stdout",
     "output_type": "stream",
     "text": [
      "epoch 1, loss 0.040907\n",
      "epoch 2, loss 0.000152\n",
      "epoch 3, loss 0.000050\n",
      "error in estimating w: [-6.7472458e-05 -1.8668175e-04]\n",
      "error in estimating b: [-0.00020838]\n"
     ]
    }
   ],
   "source": [
    "# Training\n",
    "# 이 부분 역시 뒷부분에 user-defined ftn으로 대체되는데, 그 부분에 갔을 때에 대체하도록 하겠습니다.\n",
    "lr = 0.03 # learning rate\n",
    "num_epochs = 3 # number of epochs\n",
    "batch_size = 10 # size of the batch\n",
    "net = d2l.linreg # loss function to optimize w.r.t parameters\n",
    "loss = d2l.squared_loss # loss function to optimize w.r.t parameters\n",
    "\n",
    "for epoch in range(num_epochs):\n",
    "    for X, y in data_iter(batch_size, features, labels):\n",
    "    #for X, y in d2l.load_array((features, labels), batch_size):\n",
    "        with tf.GradientTape() as g:\n",
    "            l = loss(net(X, w, b), y) # Minibatch loss in 'X' and 'y'\n",
    "        # Compute gradient on l w.r.t ['w', 'b']\n",
    "        dw, db = g.gradient(l, [w, b])\n",
    "        # Update parameters using their gradient\n",
    "        d2l.sgd([w, b], [dw, db], lr, batch_size)\n",
    "    train_l = loss(net(features, w, b), labels) # Recall that loss is given in a vector\n",
    "    print(f'epoch {epoch + 1}, loss {float(tf.reduce_mean(train_l)):f}')\n",
    "\n",
    "# Discrepancy btw real parameter values\n",
    "print(f'error in estimating w: {true_w - tf.reshape(w, true_w.shape)}')\n",
    "print(f'error in estimating b: {true_b - b}')"
   ]
  }
 ],
 "metadata": {
  "interpreter": {
   "hash": "31f2aee4e71d21fbe5cf8b01ff0e069b9275f58929596ceb00d14d90e3e16cd6"
  },
  "kernelspec": {
   "display_name": "Python 3.8.10 64-bit",
   "language": "python",
   "name": "python3"
  },
  "language_info": {
   "codemirror_mode": {
    "name": "ipython",
    "version": 3
   },
   "file_extension": ".py",
   "mimetype": "text/x-python",
   "name": "python",
   "nbconvert_exporter": "python",
   "pygments_lexer": "ipython3",
   "version": "3.8.10"
  },
  "orig_nbformat": 4
 },
 "nbformat": 4,
 "nbformat_minor": 2
}
